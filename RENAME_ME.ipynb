{
  "cells": [
    {
      "cell_type": "markdown",
      "source": [
        "# ____ Analysis"
      ],
      "metadata": {
        "id": "770df2a2"
      },
      "id": "770df2a2"
    },
    {
      "cell_type": "markdown",
      "source": [
        "## Your research question:\n",
        "[Complete this based on your chosen data set]\n",
        "\n"
      ],
      "metadata": {
        "id": "frC2lzzzZij3"
      },
      "id": "frC2lzzzZij3"
    },
    {
      "cell_type": "code",
      "source": [
        "import pandas as pd\n",
        "import seaborn as sns\n",
        "import matplotlib.pyplot as plt\n",
        "\n",
        "nba_data = pd.read_csv(\"\") # Talk with Mr. Moden about how to get access to your data"
      ],
      "metadata": {
        "id": "8_225va5aqZY"
      },
      "id": "8_225va5aqZY",
      "execution_count": null,
      "outputs": []
    },
    {
      "cell_type": "markdown",
      "source": [
        "## Part 1: Get a sense of the data\n",
        "Before you start doing anything with you data, you need to get a sense of what the data contains. Considering using .info(), .describe(), .columns, or other tools to get a sense of the data. You can reference ChatGPT if you are looking for other options."
      ],
      "metadata": {
        "id": "Zmox-zkAbR_R"
      },
      "id": "Zmox-zkAbR_R"
    },
    {
      "cell_type": "code",
      "source": [],
      "metadata": {
        "id": "KEPTykvSTBGF"
      },
      "id": "KEPTykvSTBGF",
      "execution_count": null,
      "outputs": []
    },
    {
      "cell_type": "code",
      "source": [
        "#Write your code here."
      ],
      "metadata": {
        "id": "qQB7VTOUbsKH"
      },
      "id": "qQB7VTOUbsKH",
      "execution_count": null,
      "outputs": []
    },
    {
      "cell_type": "markdown",
      "source": [
        "## Explanation\n",
        "In the space below, explain what you found from your code"
      ],
      "metadata": {
        "id": "TryxaCwrbsdM"
      },
      "id": "TryxaCwrbsdM"
    },
    {
      "cell_type": "markdown",
      "source": [
        "### Write your response in this space."
      ],
      "metadata": {
        "id": "R3K_-ss_bz0u"
      },
      "id": "R3K_-ss_bz0u"
    },
    {
      "cell_type": "markdown",
      "source": [
        "## Part 2: Data Cleaning\n",
        "Look for missing data. If you decide to drop rows or columns, explain your choice."
      ],
      "metadata": {
        "id": "Ka34AlcRb0Ev"
      },
      "id": "Ka34AlcRb0Ev"
    },
    {
      "cell_type": "code",
      "source": [
        "#Write your code here"
      ],
      "metadata": {
        "id": "JtKu4-hrb-Bn"
      },
      "id": "JtKu4-hrb-Bn",
      "execution_count": null,
      "outputs": []
    },
    {
      "cell_type": "markdown",
      "source": [
        "Did you drop columns or rows? If so, explain why. If not, explain why not."
      ],
      "metadata": {
        "id": "eRsna_MUb-iL"
      },
      "id": "eRsna_MUb-iL"
    },
    {
      "cell_type": "markdown",
      "source": [
        "### Write your response in this space."
      ],
      "metadata": {
        "id": "BR5G07SpcDYw"
      },
      "id": "BR5G07SpcDYw"
    },
    {
      "cell_type": "markdown",
      "source": [
        "## Part 3: Data manipulation\n",
        "Use groupby to analyze data and get a better understanding of potential trends. For example, if you want to look at scoring likelihood, you might group teams by whether they were home or away or you could group them by team. You should be using groupby on categorical data, not on numerical data (ask me why if you aren't sure)."
      ],
      "metadata": {
        "id": "am0jNBk_cFV3"
      },
      "id": "am0jNBk_cFV3"
    },
    {
      "cell_type": "code",
      "source": [
        "#Write your code here"
      ],
      "metadata": {
        "id": "l1t-HXWrc6YQ"
      },
      "id": "l1t-HXWrc6YQ",
      "execution_count": null,
      "outputs": []
    },
    {
      "cell_type": "markdown",
      "source": [
        "### Write your response in this space."
      ],
      "metadata": {
        "id": "uOXOc6gvc6j5"
      },
      "id": "uOXOc6gvc6j5"
    },
    {
      "cell_type": "markdown",
      "source": [
        "# Part 4: Data Visualization"
      ],
      "metadata": {
        "id": "ywof0d0EdDrT"
      },
      "id": "ywof0d0EdDrT"
    },
    {
      "cell_type": "markdown",
      "source": [
        "## Plot distribution of individual variables\n",
        "Use histograms, KDE plots, box plots, and violin plots (choose 1 - 2) to show the distribution of data within 3 selected numerical columns. Be sure to include histograms to identify outliers"
      ],
      "metadata": {
        "id": "-sCrM0FCdTPl"
      },
      "id": "-sCrM0FCdTPl"
    },
    {
      "cell_type": "code",
      "source": [
        "#Write code here"
      ],
      "metadata": {
        "id": "T5JpD3U_do1S"
      },
      "id": "T5JpD3U_do1S",
      "execution_count": null,
      "outputs": []
    },
    {
      "cell_type": "markdown",
      "source": [
        "Do you need to remove any outliers"
      ],
      "metadata": {
        "id": "OSjBB8AvfWp-"
      },
      "id": "OSjBB8AvfWp-"
    },
    {
      "cell_type": "markdown",
      "source": [
        "## Correlations\n",
        "Use heatmaps to find interesting correlations between data. Keep in mind that you can only use a heatmap on numerical data."
      ],
      "metadata": {
        "id": "K_HcpGvxdrb8"
      },
      "id": "K_HcpGvxdrb8"
    },
    {
      "cell_type": "markdown",
      "source": [
        "## Relationships\n",
        "Focus in on relationships. Create relplots, scatter plots, pairplots, and jointplots to showcase any relationships that you see within the data. Create a comprehensive exploration of the data."
      ],
      "metadata": {
        "id": "LXiruxeDfJ05"
      },
      "id": "LXiruxeDfJ05"
    },
    {
      "cell_type": "code",
      "source": [
        "#Write code here"
      ],
      "metadata": {
        "id": "XkOVbrMQfQAK"
      },
      "id": "XkOVbrMQfQAK",
      "execution_count": null,
      "outputs": []
    },
    {
      "cell_type": "markdown",
      "source": [
        "For each group, write a short description of your findings."
      ],
      "metadata": {
        "id": "ysAoklOZgCE8"
      },
      "id": "ysAoklOZgCE8"
    },
    {
      "cell_type": "markdown",
      "source": [
        "## Conclusion\n",
        "Based on everything, you explored write a summary of your findings. Include graphs to support your argument."
      ],
      "metadata": {
        "id": "YRFc6s6tgFVo"
      },
      "id": "YRFc6s6tgFVo"
    }
  ],
  "metadata": {
    "kernelspec": {
      "display_name": "Python 3 (ipykernel)",
      "language": "python",
      "name": "python3"
    },
    "language_info": {
      "codemirror_mode": {
        "name": "ipython",
        "version": 3
      },
      "file_extension": ".py",
      "mimetype": "text/x-python",
      "name": "python",
      "nbconvert_exporter": "python",
      "pygments_lexer": "ipython3",
      "version": "3.9.13"
    },
    "colab": {
      "provenance": []
    }
  },
  "nbformat": 4,
  "nbformat_minor": 5
}